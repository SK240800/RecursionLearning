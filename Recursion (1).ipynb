{
  "nbformat": 4,
  "nbformat_minor": 0,
  "metadata": {
    "colab": {
      "provenance": []
    },
    "kernelspec": {
      "name": "python3",
      "display_name": "Python 3"
    },
    "language_info": {
      "name": "python"
    }
  },
  "cells": [
    {
      "cell_type": "code",
      "execution_count": null,
      "metadata": {
        "id": "5ycdHuyOZiI7"
      },
      "outputs": [],
      "source": [
        "def count_down(n):\n",
        "    \"\"\"\n",
        "    Function to return a list of integers from n to 1 using recursion.\n",
        "\n",
        "    Parameters:\n",
        "    n (int): The positive integer representing the starting point of the range.\n",
        "\n",
        "    Returns:\n",
        "    list: A list of integers from n to 1.\n",
        "    \"\"\"\n",
        "    # Your code here\n",
        "    if n == 1:\n",
        "        return [1]\n",
        "    return [n]+count_down(n-1)"
      ]
    },
    {
      "cell_type": "code",
      "source": [
        "def sum_of_natural_numbers(n):\n",
        "    \"\"\"\n",
        "    Function to calculate the sum of the first n natural numbers using recursion.\n",
        "\n",
        "    Parameters:\n",
        "    n (int): The non-negative integer for which the sum is to be calculated.\n",
        "\n",
        "    Returns:\n",
        "    int: The sum of the first n natural numbers.\n",
        "    \"\"\"\n",
        "    # Your code here\n",
        "    if n==1:\n",
        "        return 1\n",
        "    elif n==0:\n",
        "        return 0\n",
        "    else:\n",
        "        return n+sum_of_natural_numbers(n-1)"
      ],
      "metadata": {
        "id": "bFcTB9VQaMqX"
      },
      "execution_count": null,
      "outputs": []
    },
    {
      "cell_type": "code",
      "source": [
        "def factorial(n):\n",
        "    \"\"\"\n",
        "    Function to calculate the factorial of a non-negative integer n using recursion.\n",
        "\n",
        "    Parameters:\n",
        "    n (int): The non-negative integer for which the factorial is to be calculated.\n",
        "\n",
        "    Returns:\n",
        "    int: The factorial of n.\n",
        "    \"\"\"\n",
        "    # Your code here\n",
        "    if n==1 or n==0:\n",
        "        return 1\n",
        "    else:\n",
        "        return n*factorial(n-1)"
      ],
      "metadata": {
        "id": "IvHQ9M75aTC9"
      },
      "execution_count": null,
      "outputs": []
    },
    {
      "cell_type": "code",
      "source": [
        "def count_digits(n):\n",
        "    \"\"\"\n",
        "    Function to find the number of digits in a number using recursion.\n",
        "\n",
        "    Parameters:\n",
        "    n (int): The positive integer whose digits are to be counted.\n",
        "\n",
        "    Returns:\n",
        "    int: The number of digits in the integer.\n",
        "    \"\"\"\n",
        "    # Your code here\n",
        "    if n==0:\n",
        "        return 0\n",
        "\n",
        "    return 1+ count_digits(n//10)"
      ],
      "metadata": {
        "id": "7laMIxZZaY9I"
      },
      "execution_count": null,
      "outputs": []
    },
    {
      "cell_type": "code",
      "source": [
        "def fibonacci(n):\n",
        "    \"\"\"\n",
        "    Function to calculate the nth Fibonacci number using recursion.\n",
        "\n",
        "    Parameters:\n",
        "    n (int): The non-negative integer for which the Fibonacci number is to be calculated.\n",
        "\n",
        "    Returns:\n",
        "    int: The nth Fibonacci number.\n",
        "    \"\"\"\n",
        "    # Your code here\n",
        "    if n==0:\n",
        "        return 0\n",
        "    elif n==1:\n",
        "        return 1\n",
        "    else:\n",
        "        return fibonacci(n-1)+fibonacci(n-2)"
      ],
      "metadata": {
        "id": "qjsCexCxaf4q"
      },
      "execution_count": null,
      "outputs": []
    },
    {
      "cell_type": "code",
      "source": [
        "def count_to_n(n):\n",
        "    \"\"\"\n",
        "    Function to return a list of integers from 1 to n using recursion.\n",
        "\n",
        "    Parameters:\n",
        "    n (int): The positive integer representing the upper limit of the range.\n",
        "\n",
        "    Returns:\n",
        "    list: A list of integers from 1 to n.\n",
        "    \"\"\"\n",
        "    # Your code here\n",
        "    if n==1:\n",
        "        return [1]\n",
        "\n",
        "    return count_to_n(n-1)+[n]"
      ],
      "metadata": {
        "id": "P2UgYvpvaw0J"
      },
      "execution_count": null,
      "outputs": []
    },
    {
      "cell_type": "code",
      "source": [
        "def recursive_sum(arr,s=0):\n",
        "    \"\"\"\n",
        "    Function to calculate the sum of an array using recursion.\n",
        "\n",
        "    Parameters:\n",
        "    arr (list of int): The array of integers.\n",
        "\n",
        "    Returns:\n",
        "    int: The sum of the array elements.\n",
        "    \"\"\"\n",
        "    # Your code here\n",
        "    if len(arr)==0:\n",
        "        return s\n",
        "    elif len(arr)==1:\n",
        "        s+=arr[0]\n",
        "        return s\n",
        "    else:\n",
        "        s+=arr[0]\n",
        "        return recursive_sum(arr[1:],s)"
      ],
      "metadata": {
        "id": "IpAM_z0CaxlG"
      },
      "execution_count": null,
      "outputs": []
    },
    {
      "cell_type": "code",
      "source": [
        "def find_first_index(arr, element,c=0):\n",
        "    \"\"\"\n",
        "    Function to find the first index of a given element in an array using recursion.\n",
        "\n",
        "    Parameters:\n",
        "    arr (list of int): The array to search through.\n",
        "    element (int): The element to find.\n",
        "\n",
        "    Returns:\n",
        "    int: The first index of the element in the array, or -1 if not found.\n",
        "    \"\"\"\n",
        "    # Your code here\n",
        "    if len(arr)==0:\n",
        "        return -1\n",
        "    elif arr[0]==element:\n",
        "        return c\n",
        "    else:\n",
        "        c+=1\n",
        "        return find_first_index(arr[1:],element,c)"
      ],
      "metadata": {
        "id": "s0yuOJ74vmY9"
      },
      "execution_count": null,
      "outputs": []
    },
    {
      "cell_type": "code",
      "source": [
        "def find_indices(arr, element):\n",
        "    \"\"\"\n",
        "    Function to find all indices of a given element in an array using recursion.\n",
        "\n",
        "    Parameters:\n",
        "    arr (list of int): The array to search through.\n",
        "    element (int): The element to find.\n",
        "\n",
        "    Returns:\n",
        "    list of int: A list containing all indices of the element in the array.\n",
        "    \"\"\"\n",
        "    # Your code here\n",
        "    def fih(arr,element,i=0):\n",
        "        if len(arr)==i:\n",
        "            return []\n",
        "        elif arr[i]==element:\n",
        "            return [i] + fih(arr,element,i+1)\n",
        "        else:\n",
        "            return fih(arr,element,i+1)\n",
        "    return fih(arr,element)"
      ],
      "metadata": {
        "id": "NGHWVFOMqAzz"
      },
      "execution_count": null,
      "outputs": []
    }
  ]
}